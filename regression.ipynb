{
 "cells": [
  {
   "cell_type": "code",
   "execution_count": 34,
   "metadata": {},
   "outputs": [],
   "source": [
    "import numpy as np\n",
    "import matplotlib.pyplot as plt"
   ]
  },
  {
   "cell_type": "code",
   "execution_count": 76,
   "metadata": {},
   "outputs": [],
   "source": [
    "# helper functions\n",
    "def draw(x1,x2):\n",
    "    ln = plt.plot(x1,x2)\n",
    "    \n",
    "def sigmoid(s):\n",
    "    return 1/(1+np.exp(-s))\n",
    "    \n",
    "def cross_entropy(line_params,points,y):\n",
    "    m = points.shape[0]\n",
    "    p = sigmoid(points*line_params)\n",
    "    return -(1/m)*(np.log(p).T*y + np.log(1-p).T*(1-y))\n",
    "\n",
    "def gradient_descent(line_params,points,y,alpha):\n",
    "    for i in range(1000): #epochs\n",
    "        m = points.shape[0]\n",
    "        p = sigmoid(points*line_params)\n",
    "        grad = (1/m)*(points.T*(p-y))\n",
    "        line_params -= grad*alpha\n",
    "        \n",
    "        # update parameters\n",
    "        w1,w2,b = line_params.item(0),line_params.item(1),line_params.item(2)\n",
    "        x1 = np.array([points[:,0].min(),points[:,0].max()])  \n",
    "        x2 = -b/w2 + x1*(-w1/w2)\n",
    "\n",
    "    draw(x1,x2)\n",
    "    "
   ]
  },
  {
   "cell_type": "code",
   "execution_count": 77,
   "metadata": {
    "scrolled": true
   },
   "outputs": [],
   "source": [
    "n_pts = 100\n",
    "np.random.seed(0)\n",
    "bias = np.ones(n_pts)\n",
    "\n",
    "# create values across a gaussian dist (pick x1 and x2 mids)\n",
    "# get transpose (you have x1,x2 vals)\n",
    "top_region = np.array([np.random.normal(10,2,n_pts),\n",
    "                       np.random.normal(12,2,n_pts),bias]).T\n",
    "bot_region = np.array([np.random.normal(5,2,n_pts),\n",
    "                       np.random.normal(6,2,n_pts),bias]).T\n",
    "# combine them\n",
    "all_pts = np.vstack((top_region,bot_region))\n",
    "\n",
    "# line parameters (vertical)\n",
    "line_params = np.matrix(np.zeros(3)).T\n",
    "\n",
    "# create labels (vertical)\n",
    "y = np.array([np.zeros(n_pts),np.ones(n_pts)]).reshape(n_pts*2,1)\n",
    "\n",
    "# calculate error (cross entropy)\n",
    "cross = cross_entropy(line_params,all_pts,y)"
   ]
  },
  {
   "cell_type": "code",
   "execution_count": 78,
   "metadata": {},
   "outputs": [
    {
     "data": {
      "image/png": "[encoded data removed]",
      "text/plain": [
       "<Figure size 288x288 with 1 Axes>"
      ]
     },
     "metadata": {
      "needs_background": "light"
     },
     "output_type": "display_data"
    }
   ],
   "source": [
    "# plot\n",
    "_, ax = plt.subplots(figsize=(4,4))\n",
    "ax.scatter(top_region[:,0],top_region[:,1],color='r')\n",
    "ax.scatter(bot_region[:,0],bot_region[:,1],color='b')\n",
    "gradient_descent(line_params,all_pts,y,0.1)\n",
    "plt.show()"
   ]
  },
  {
   "cell_type": "code",
   "execution_count": null,
   "metadata": {},
   "outputs": [],
   "source": []
  },
  {
   "cell_type": "code",
   "execution_count": null,
   "metadata": {},
   "outputs": [],
   "source": []
  }
 ],
 "metadata": {
  "kernelspec": {
   "display_name": "Python 3",
   "language": "python",
   "name": "python3"
  },
  "language_info": {
   "codemirror_mode": {
    "name": "ipython",
    "version": 3
   },
   "file_extension": ".py",
   "mimetype": "text/x-python",
   "name": "python",
   "nbconvert_exporter": "python",
   "pygments_lexer": "ipython3",
   "version": "3.6.7"
  }
 },
 "nbformat": 4,
 "nbformat_minor": 2
}
